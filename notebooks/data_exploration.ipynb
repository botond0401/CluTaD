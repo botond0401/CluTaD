{
 "cells": [
  {
   "cell_type": "code",
   "execution_count": 1,
   "id": "a7a13c9d",
   "metadata": {},
   "outputs": [
    {
     "ename": "ModuleNotFoundError",
     "evalue": "No module named 'pandas'",
     "output_type": "error",
     "traceback": [
      "\u001b[31m---------------------------------------------------------------------------\u001b[39m",
      "\u001b[31mModuleNotFoundError\u001b[39m                       Traceback (most recent call last)",
      "\u001b[36mCell\u001b[39m\u001b[36m \u001b[39m\u001b[32mIn[1]\u001b[39m\u001b[32m, line 1\u001b[39m\n\u001b[32m----> \u001b[39m\u001b[32m1\u001b[39m \u001b[38;5;28;01mimport\u001b[39;00m\u001b[38;5;250m \u001b[39m\u001b[34;01mpandas\u001b[39;00m\u001b[38;5;250m \u001b[39m\u001b[38;5;28;01mas\u001b[39;00m\u001b[38;5;250m \u001b[39m\u001b[34;01mpd\u001b[39;00m\n\u001b[32m      2\u001b[39m \u001b[38;5;28;01mfrom\u001b[39;00m\u001b[38;5;250m \u001b[39m\u001b[34;01mscipy\u001b[39;00m\u001b[34;01m.\u001b[39;00m\u001b[34;01mio\u001b[39;00m\u001b[38;5;250m \u001b[39m\u001b[38;5;28;01mimport\u001b[39;00m arff\n\u001b[32m      3\u001b[39m \u001b[38;5;28;01mimport\u001b[39;00m\u001b[38;5;250m \u001b[39m\u001b[34;01msys\u001b[39;00m\n",
      "\u001b[31mModuleNotFoundError\u001b[39m: No module named 'pandas'"
     ]
    }
   ],
   "source": [
    "import pandas as pd\n",
    "from scipy.io import arff\n",
    "import sys\n",
    "import os\n",
    "\n",
    "sys.path.append(os.path.abspath('../'))\n",
    "\n",
    "from src.utils import preprocess_and_save\n"
   ]
  },
  {
   "cell_type": "markdown",
   "id": "c6db1018",
   "metadata": {},
   "source": [
    "# 1) Dataset 1480\n"
   ]
  },
  {
   "cell_type": "code",
   "execution_count": null,
   "id": "f15cca6a",
   "metadata": {},
   "outputs": [],
   "source": [
    "file_path = 'data/raw/phpOJxGL9.arff'\n",
    "\n",
    "data, meta = arff.loadarff(file_path)\n",
    "df = pd.DataFrame(data)\n",
    "\n",
    "df = df.map(lambda x: x.decode('utf-8') if isinstance(x, bytes) else x)\n",
    "df.head()\n"
   ]
  },
  {
   "cell_type": "code",
   "execution_count": null,
   "id": "970579be",
   "metadata": {},
   "outputs": [],
   "source": [
    "cluster_col = 'Class'\n",
    "categorical_cols = ['V2']\n",
    "save_dir = 'data/preprocessed/1480'\n",
    "preprocess_and_save(df, cluster_col, categorical_cols, save_dir)\n"
   ]
  },
  {
   "cell_type": "markdown",
   "id": "7e7d51bf",
   "metadata": {},
   "source": [
    "# 2) Dataset 458\n"
   ]
  },
  {
   "cell_type": "code",
   "execution_count": null,
   "id": "0ad6aebd",
   "metadata": {},
   "outputs": [],
   "source": [
    "file_path = 'data/raw/analcatdata_authorship.arff'\n",
    "\n",
    "data, meta = arff.loadarff(file_path)\n",
    "df = pd.DataFrame(data)\n",
    "\n",
    "df = df.map(lambda x: x.decode('utf-8') if isinstance(x, bytes) else x)\n",
    "df.head()\n"
   ]
  },
  {
   "cell_type": "code",
   "execution_count": null,
   "id": "b29c2dea",
   "metadata": {},
   "outputs": [],
   "source": [
    "cluster_col = 'Author'\n",
    "categorical_cols = []\n",
    "save_dir = 'data/preprocessed/458'\n",
    "preprocess_and_save(df, cluster_col, categorical_cols, save_dir)\n"
   ]
  },
  {
   "cell_type": "markdown",
   "id": "2415ae53",
   "metadata": {},
   "source": [
    "# 3) Dataset 469\n"
   ]
  },
  {
   "cell_type": "code",
   "execution_count": null,
   "id": "2dd3ce69",
   "metadata": {},
   "outputs": [],
   "source": [
    "file_path = 'data/raw/analcatdata_dmft.arff'\n",
    "\n",
    "data, meta = arff.loadarff(file_path)\n",
    "df = pd.DataFrame(data)\n",
    "\n",
    "df = df.map(lambda x: x.decode('utf-8') if isinstance(x, bytes) else x)\n",
    "df.head()\n"
   ]
  },
  {
   "cell_type": "code",
   "execution_count": null,
   "id": "3eb06963",
   "metadata": {},
   "outputs": [],
   "source": [
    "cluster_col = 'Prevention'\n",
    "categorical_cols = ['DMFT.Begin', 'DMFT.End', 'Gender', 'Ethnic']\n",
    "save_dir = 'data/preprocessed/469'\n",
    "preprocess_and_save(df, cluster_col, categorical_cols, save_dir)\n"
   ]
  },
  {
   "cell_type": "markdown",
   "id": "628eac6a",
   "metadata": {},
   "source": [
    "# 4) Dataset 11\n"
   ]
  },
  {
   "cell_type": "code",
   "execution_count": null,
   "id": "153b8585",
   "metadata": {},
   "outputs": [],
   "source": [
    "file_path = 'data/raw/dataset_11_balance-scale.arff'\n",
    "\n",
    "data, meta = arff.loadarff(file_path)\n",
    "df = pd.DataFrame(data)\n",
    "\n",
    "df = df.map(lambda x: x.decode('utf-8') if isinstance(x, bytes) else x)\n",
    "df.head()\n"
   ]
  },
  {
   "cell_type": "code",
   "execution_count": null,
   "id": "8052004a",
   "metadata": {},
   "outputs": [],
   "source": [
    "cluster_col = 'class'\n",
    "categorical_cols = []\n",
    "save_dir = 'data/preprocessed/11'\n",
    "preprocess_and_save(df, cluster_col, categorical_cols, save_dir)\n"
   ]
  },
  {
   "cell_type": "markdown",
   "id": "71ff46fc",
   "metadata": {},
   "source": [
    "# 5) Dataset 23\n"
   ]
  },
  {
   "cell_type": "code",
   "execution_count": null,
   "id": "9cf7c63d",
   "metadata": {},
   "outputs": [],
   "source": [
    "file_path = 'data/raw/dataset_23_cmc.arff'\n",
    "\n",
    "data, meta = arff.loadarff(file_path)\n",
    "df = pd.DataFrame(data)\n",
    "\n",
    "df = df.map(lambda x: x.decode('utf-8') if isinstance(x, bytes) else x)\n",
    "df.head()\n"
   ]
  },
  {
   "cell_type": "code",
   "execution_count": null,
   "id": "b0f18e55",
   "metadata": {},
   "outputs": [],
   "source": [
    "cluster_col = 'Contraceptive_method_used'\n",
    "categorical_cols = ['Wifes_education', 'Husbands_education', 'Wifes_religion',\n",
    "       'Wifes_now_working%3F', 'Husbands_occupation', 'Standard-of-living_index', 'Media_exposure']\n",
    "save_dir = 'data/preprocessed/23'\n",
    "preprocess_and_save(df, cluster_col, categorical_cols, save_dir)\n"
   ]
  },
  {
   "cell_type": "markdown",
   "id": "be2d729c",
   "metadata": {},
   "source": [
    "# 6) Dataset 37\n"
   ]
  },
  {
   "cell_type": "code",
   "execution_count": null,
   "id": "887be0fe",
   "metadata": {},
   "outputs": [],
   "source": [
    "file_path = 'data/raw/dataset_37_diabetes.arff'\n",
    "\n",
    "data, meta = arff.loadarff(file_path)\n",
    "df = pd.DataFrame(data)\n",
    "\n",
    "df = df.map(lambda x: x.decode('utf-8') if isinstance(x, bytes) else x)\n",
    "df.head()\n"
   ]
  },
  {
   "cell_type": "code",
   "execution_count": null,
   "id": "7734ad0e",
   "metadata": {},
   "outputs": [],
   "source": [
    "cluster_col = 'class'\n",
    "categorical_cols = []\n",
    "save_dir = 'data/preprocessed/37'\n",
    "preprocess_and_save(df, cluster_col, categorical_cols, save_dir)\n"
   ]
  },
  {
   "cell_type": "markdown",
   "id": "cccf7f10",
   "metadata": {},
   "source": [
    "# 7) Dataset 1067\n"
   ]
  },
  {
   "cell_type": "code",
   "execution_count": null,
   "id": "0c873842",
   "metadata": {},
   "outputs": [],
   "source": [
    "file_path = 'data/raw/kc1.arff'\n",
    "\n",
    "data, meta = arff.loadarff(file_path)\n",
    "df = pd.DataFrame(data)\n",
    "\n",
    "df = df.map(lambda x: x.decode('utf-8') if isinstance(x, bytes) else x)\n",
    "df.head()\n"
   ]
  },
  {
   "cell_type": "code",
   "execution_count": null,
   "id": "0555681c",
   "metadata": {},
   "outputs": [],
   "source": [
    "cluster_col = 'defects'\n",
    "categorical_cols = []\n",
    "save_dir = 'data/preprocessed/1067'\n",
    "preprocess_and_save(df, cluster_col, categorical_cols, save_dir)\n"
   ]
  },
  {
   "cell_type": "markdown",
   "id": "ec4013fc",
   "metadata": {},
   "source": [
    "# 8) Dataset 1063\n"
   ]
  },
  {
   "cell_type": "code",
   "execution_count": null,
   "id": "507cb93f",
   "metadata": {},
   "outputs": [],
   "source": [
    "file_path = 'data/raw/kc2.arff'\n",
    "\n",
    "data, meta = arff.loadarff(file_path)\n",
    "df = pd.DataFrame(data)\n",
    "\n",
    "df = df.map(lambda x: x.decode('utf-8') if isinstance(x, bytes) else x)\n",
    "df.head()\n"
   ]
  },
  {
   "cell_type": "code",
   "execution_count": null,
   "id": "9527a7dc",
   "metadata": {},
   "outputs": [],
   "source": [
    "cluster_col = 'problems'\n",
    "categorical_cols = []\n",
    "save_dir = 'data/preprocessed/1063'\n",
    "preprocess_and_save(df, cluster_col, categorical_cols, save_dir)\n"
   ]
  },
  {
   "cell_type": "markdown",
   "id": "ab250725",
   "metadata": {},
   "source": [
    "# 9) Dataset 1068\n"
   ]
  },
  {
   "cell_type": "code",
   "execution_count": null,
   "id": "9bb71dea",
   "metadata": {},
   "outputs": [],
   "source": [
    "file_path = 'data/raw/pc1.arff'\n",
    "\n",
    "data, meta = arff.loadarff(file_path)\n",
    "df = pd.DataFrame(data)\n",
    "\n",
    "df = df.map(lambda x: x.decode('utf-8') if isinstance(x, bytes) else x)\n",
    "df.head()\n"
   ]
  },
  {
   "cell_type": "code",
   "execution_count": null,
   "id": "174ec3d5",
   "metadata": {},
   "outputs": [],
   "source": [
    "cluster_col = 'defects'\n",
    "categorical_cols = []\n",
    "save_dir = 'data/preprocessed/1068'\n",
    "preprocess_and_save(df, cluster_col, categorical_cols, save_dir)\n"
   ]
  },
  {
   "cell_type": "markdown",
   "id": "c8dda6c0",
   "metadata": {},
   "source": [
    "# 10) Dataset 1050\n"
   ]
  },
  {
   "cell_type": "code",
   "execution_count": null,
   "id": "81edd4dd",
   "metadata": {},
   "outputs": [],
   "source": [
    "file_path = 'data/raw/pc3.arff'\n",
    "\n",
    "data, meta = arff.loadarff(file_path)\n",
    "df = pd.DataFrame(data)\n",
    "\n",
    "df = df.map(lambda x: x.decode('utf-8') if isinstance(x, bytes) else x)\n",
    "df.head()\n"
   ]
  },
  {
   "cell_type": "code",
   "execution_count": null,
   "id": "8e30e569",
   "metadata": {},
   "outputs": [],
   "source": [
    "cluster_col = 'c'\n",
    "categorical_cols = []\n",
    "save_dir = 'data/preprocessed/1050'\n",
    "preprocess_and_save(df, cluster_col, categorical_cols, save_dir)\n"
   ]
  },
  {
   "cell_type": "markdown",
   "id": "c3dad889",
   "metadata": {},
   "source": [
    "# 11) Dataset 1049\n"
   ]
  },
  {
   "cell_type": "code",
   "execution_count": null,
   "id": "3ec3206e",
   "metadata": {},
   "outputs": [],
   "source": [
    "file_path = 'data/raw/pc4.arff'\n",
    "\n",
    "data, meta = arff.loadarff(file_path)\n",
    "df = pd.DataFrame(data)\n",
    "\n",
    "df = df.map(lambda x: x.decode('utf-8') if isinstance(x, bytes) else x)\n",
    "df.head()\n"
   ]
  },
  {
   "cell_type": "code",
   "execution_count": null,
   "id": "9696c166",
   "metadata": {},
   "outputs": [],
   "source": [
    "cluster_col = 'c'\n",
    "categorical_cols = []\n",
    "save_dir = 'data/preprocessed/1049'\n",
    "preprocess_and_save(df, cluster_col, categorical_cols, save_dir)\n"
   ]
  },
  {
   "cell_type": "markdown",
   "id": "de36932c",
   "metadata": {},
   "source": [
    "# 12) Dataset 1464\n"
   ]
  },
  {
   "cell_type": "code",
   "execution_count": null,
   "id": "689c0733",
   "metadata": {},
   "outputs": [],
   "source": [
    "file_path = 'data/raw/php0iVrYT.arff'\n",
    "\n",
    "data, meta = arff.loadarff(file_path)\n",
    "df = pd.DataFrame(data)\n",
    "\n",
    "df = df.map(lambda x: x.decode('utf-8') if isinstance(x, bytes) else x)\n",
    "df.head()\n"
   ]
  },
  {
   "cell_type": "code",
   "execution_count": null,
   "id": "3e3c00f9",
   "metadata": {},
   "outputs": [],
   "source": [
    "cluster_col = 'Class'\n",
    "categorical_cols = []\n",
    "save_dir = 'data/preprocessed/1464'\n",
    "preprocess_and_save(df, cluster_col, categorical_cols, save_dir)\n"
   ]
  },
  {
   "cell_type": "markdown",
   "id": "8aa42066",
   "metadata": {},
   "source": [
    "# 13) Dataset 40975\n"
   ]
  },
  {
   "cell_type": "code",
   "execution_count": null,
   "id": "b2813b26",
   "metadata": {},
   "outputs": [],
   "source": [
    "file_path = 'data/raw/php2jDIhh.arff'\n",
    "\n",
    "data, meta = arff.loadarff(file_path)\n",
    "df = pd.DataFrame(data)\n",
    "\n",
    "df = df.map(lambda x: x.decode('utf-8') if isinstance(x, bytes) else x)\n",
    "df.head()\n"
   ]
  },
  {
   "cell_type": "code",
   "execution_count": null,
   "id": "8355b409",
   "metadata": {},
   "outputs": [],
   "source": [
    "cluster_col = 'class'\n",
    "categorical_cols = ['buying', 'maint', 'doors', 'persons', 'lug_boot', 'safety']\n",
    "save_dir = 'data/preprocessed/40975'\n",
    "preprocess_and_save(df, cluster_col, categorical_cols, save_dir)\n"
   ]
  },
  {
   "cell_type": "markdown",
   "id": "aa58ec45",
   "metadata": {},
   "source": [
    "# 14) Dataset 40982\n"
   ]
  },
  {
   "cell_type": "code",
   "execution_count": null,
   "id": "8d0c004d",
   "metadata": {},
   "outputs": [],
   "source": [
    "file_path = 'data/raw/php5s7Ep8.arff'\n",
    "\n",
    "data, meta = arff.loadarff(file_path)\n",
    "df = pd.DataFrame(data)\n",
    "\n",
    "df = df.map(lambda x: x.decode('utf-8') if isinstance(x, bytes) else x)\n",
    "df.head()\n"
   ]
  },
  {
   "cell_type": "code",
   "execution_count": null,
   "id": "6c09e3da",
   "metadata": {},
   "outputs": [],
   "source": [
    "cluster_col = 'target'\n",
    "categorical_cols = []\n",
    "save_dir = 'data/preprocessed/40982'\n",
    "preprocess_and_save(df, cluster_col, categorical_cols, save_dir)\n"
   ]
  },
  {
   "cell_type": "markdown",
   "id": "6177bea5",
   "metadata": {},
   "source": [
    "# 15) Dataset 1510\n"
   ]
  },
  {
   "cell_type": "code",
   "execution_count": null,
   "id": "3bb7021b",
   "metadata": {},
   "outputs": [],
   "source": [
    "file_path = 'data/raw/phpAmSP4g.arff'\n",
    "\n",
    "data, meta = arff.loadarff(file_path)\n",
    "df = pd.DataFrame(data)\n",
    "\n",
    "df = df.map(lambda x: x.decode('utf-8') if isinstance(x, bytes) else x)\n",
    "df.head()\n"
   ]
  },
  {
   "cell_type": "code",
   "execution_count": null,
   "id": "97b2acc7",
   "metadata": {},
   "outputs": [],
   "source": [
    "cluster_col = 'Class'\n",
    "categorical_cols = []\n",
    "save_dir = 'data/preprocessed/1510'\n",
    "preprocess_and_save(df, cluster_col, categorical_cols, save_dir)\n"
   ]
  },
  {
   "cell_type": "markdown",
   "id": "0b58b4f9",
   "metadata": {},
   "source": [
    "# 16) Dataset 40994\n"
   ]
  },
  {
   "cell_type": "code",
   "execution_count": null,
   "id": "d059c066",
   "metadata": {},
   "outputs": [],
   "source": [
    "file_path = 'data/raw/phpJem85A.arff'\n",
    "\n",
    "data, meta = arff.loadarff(file_path)\n",
    "df = pd.DataFrame(data)\n",
    "\n",
    "df = df.map(lambda x: x.decode('utf-8') if isinstance(x, bytes) else x)\n",
    "df.head()\n"
   ]
  },
  {
   "cell_type": "code",
   "execution_count": null,
   "id": "82fe6425",
   "metadata": {},
   "outputs": [],
   "source": [
    "cluster_col = 'outcome'\n",
    "categorical_cols = []\n",
    "save_dir = 'data/preprocessed/40994'\n",
    "preprocess_and_save(df, cluster_col, categorical_cols, save_dir)\n"
   ]
  }
 ],
 "metadata": {
  "kernelspec": {
   "display_name": ".venv",
   "language": "python",
   "name": "python3"
  },
  "language_info": {
   "codemirror_mode": {
    "name": "ipython",
    "version": 3
   },
   "file_extension": ".py",
   "mimetype": "text/x-python",
   "name": "python",
   "nbconvert_exporter": "python",
   "pygments_lexer": "ipython3",
   "version": "3.11.2"
  }
 },
 "nbformat": 4,
 "nbformat_minor": 5
}

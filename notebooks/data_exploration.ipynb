{
 "cells": [
  {
   "cell_type": "code",
   "execution_count": 8,
   "id": "3fd11b8f",
   "metadata": {},
   "outputs": [
    {
     "name": "stdout",
     "output_type": "stream",
     "text": [
      "                    Name  Samples  Numerical  Categorical  Features  Classes  F-S ratio  C-score\n",
      "                     kc2      522         21            0        21        2      4.023    0.775\n",
      "               phpJem85A      540         20            0        20        2      3.704    0.012\n",
      "               phpAmSP4g      569         30            0        30        2      5.272    0.395\n",
      "               phpOJxGL9      583          9            1        10        2      1.715    0.208\n",
      "dataset_11_balance-scale      625          4            0         4        3      0.640    0.000\n",
      "               php0iVrYT      748          4            0         4        2      0.535    0.466\n",
      "     dataset_37_diabetes      768          8            0         8        2      1.042    0.172\n",
      "        analcatdata_dmft      797          0            4         4        6      0.502    0.000\n",
      "  analcatdata_authorship      841         70            0        70        4      8.323    0.148\n",
      "                     pc1     1109         21            0        21        2      1.894    0.633\n",
      "                     pc4     1458         37            0        37        2      2.538    0.351\n",
      "          dataset_23_cmc     1473          2            7         9        3      0.611    0.540\n",
      "                     pc3     1563         37            0        37        2      2.367    0.406\n",
      "               php2jDIhh     1728          0            6         6        4      0.347    0.000\n",
      "               php5s7Ep8     1941         27            0        27        7      1.391    0.245\n",
      "                     kc1     2109         21            0        21        2      0.996    0.720\n"
     ]
    }
   ],
   "source": [
    "import os\n",
    "from scipy.io import arff\n",
    "import pandas as pd\n",
    "import numpy as np\n",
    "\n",
    "def c_score(series):\n",
    "    value_counts = series.value_counts(normalize=True)\n",
    "    entropy = -np.sum(value_counts * np.log(value_counts))\n",
    "    max_entropy = np.log(len(value_counts))\n",
    "    return 0.0 if max_entropy == 0 else round(1 - entropy / max_entropy, 3)\n",
    "\n",
    "folder_path = '../data/raw'\n",
    "rows = []\n",
    "\n",
    "for filename in os.listdir(folder_path):\n",
    "    if filename.endswith('.arff'):\n",
    "        file_path = os.path.join(folder_path, filename)\n",
    "        try:\n",
    "            data, meta = arff.loadarff(file_path)\n",
    "            df = pd.DataFrame(data)\n",
    "            \n",
    "            df = df.map(lambda x: x.decode('utf-8') if isinstance(x, bytes) else x)\n",
    "\n",
    "            name = os.path.splitext(filename)[0]\n",
    "            n_samples = df.shape[0]\n",
    "            target_col = df.columns[-1]\n",
    "            X = df.drop(columns=[target_col])\n",
    "            y = df[target_col]\n",
    "\n",
    "            # Infer data types\n",
    "            numerical = sum(pd.api.types.is_numeric_dtype(X[col]) for col in X.columns)\n",
    "            categorical = X.shape[1] - numerical\n",
    "            n_features = X.shape[1]\n",
    "            n_classes = y.nunique()\n",
    "            # F-S ratio\n",
    "            fs_ratio = round(100 * n_features / n_samples, 3)\n",
    "\n",
    "            # C-score: mean of absolute Pearson correlations of all numerical feature pairs\n",
    "            if numerical >= 2:\n",
    "                corr_matrix = df.select_dtypes(include=[np.number]).corr().abs()\n",
    "                upper_tri = corr_matrix.where(np.triu(np.ones(corr_matrix.shape), k=1).astype(bool))\n",
    "                c_score = round(upper_tri.stack().mean(), 3)\n",
    "            else:\n",
    "                c_score = 0.0\n",
    "\n",
    "            rows.append([name, n_samples, numerical, categorical, n_features, n_classes, fs_ratio, c_score])\n",
    "\n",
    "        except Exception as e:\n",
    "            print(f\"Error loading {filename}: {e}\")\n",
    "\n",
    "# Create and print the table\n",
    "columns = ['Name', 'Samples', 'Numerical', 'Categorical', 'Features', 'Classes', 'F-S ratio', 'C-score']\n",
    "table_df = pd.DataFrame(rows, columns=columns)\n",
    "table_df = table_df.sort_values(by='Samples')\n",
    "print(table_df.to_string(index=False))\n"
   ]
  }
 ],
 "metadata": {
  "kernelspec": {
   "display_name": "Python 3",
   "language": "python",
   "name": "python3"
  },
  "language_info": {
   "codemirror_mode": {
    "name": "ipython",
    "version": 3
   },
   "file_extension": ".py",
   "mimetype": "text/x-python",
   "name": "python",
   "nbconvert_exporter": "python",
   "pygments_lexer": "ipython3",
   "version": "3.12.3"
  }
 },
 "nbformat": 4,
 "nbformat_minor": 5
}
